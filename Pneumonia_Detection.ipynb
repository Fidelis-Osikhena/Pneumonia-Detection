{
  "nbformat": 4,
  "nbformat_minor": 0,
  "metadata": {
    "colab": {
      "provenance": []
    },
    "kernelspec": {
      "name": "python3",
      "display_name": "Python 3"
    },
    "language_info": {
      "name": "python"
    }
  },
  "cells": [
    {
      "cell_type": "code",
      "execution_count": 2,
      "metadata": {
        "id": "47gDJ3YS_RjC"
      },
      "outputs": [],
      "source": [
        "import os\n",
        "import numpy as np\n",
        "import pandas as pd\n",
        "import matplotlib.pyplot as plt\n",
        "import seaborn as sns\n",
        "import tensorflow as tf\n",
        "from tensorflow.keras.preprocessing.image import ImageDataGenerator\n",
        "from tensorflow.keras.applications import ResNet50, VGG16\n",
        "from tensorflow.keras.models import Sequential, Model\n",
        "from tensorflow.keras.layers import Dense, Flatten, GlobalAveragePooling2D, Input\n",
        "from tensorflow.keras.callbacks import EarlyStopping, ModelCheckpoint\n",
        "from sklearn.metrics import classification_report, confusion_matrix\n",
        "import cv2"
      ]
    },
    {
      "cell_type": "markdown",
      "source": [
        "CONFIGURATION"
      ],
      "metadata": {
        "id": "it3numoxnEIU"
      }
    },
    {
      "cell_type": "code",
      "source": [
        "from google.colab import drive\n",
        "drive.mount('/content/drive')\n",
        "DATASET_PATH = '/content/drive/MyDrive/chest_xray'\n",
        "IMG_SIZE = (224, 224)\n",
        "BATCH_SIZE = 32\n"
      ],
      "metadata": {
        "colab": {
          "base_uri": "https://localhost:8080/"
        },
        "id": "HnExFQTvoxje",
        "outputId": "36fabb58-d52b-489f-edc4-eff497731619"
      },
      "execution_count": 3,
      "outputs": [
        {
          "output_type": "stream",
          "name": "stdout",
          "text": [
            "Drive already mounted at /content/drive; to attempt to forcibly remount, call drive.mount(\"/content/drive\", force_remount=True).\n"
          ]
        }
      ]
    },
    {
      "cell_type": "markdown",
      "source": [
        "DATA LOADING"
      ],
      "metadata": {
        "id": "moAl2bwonH0V"
      }
    },
    {
      "cell_type": "code",
      "source": [
        "train_datagen = ImageDataGenerator(rescale=1./255, rotation_range=15, zoom_range=0.1,\n",
        "                                   horizontal_flip=True, validation_split=0.2)\n",
        "\n",
        "test_datagen = ImageDataGenerator(rescale=1./255)\n",
        "\n",
        "train_generator = train_datagen.flow_from_directory(\n",
        "    os.path.join(DATASET_PATH, 'train'),\n",
        "    target_size=IMG_SIZE,\n",
        "    batch_size=BATCH_SIZE,\n",
        "    class_mode='categorical',\n",
        "    subset='training')\n",
        "\n",
        "val_generator = train_datagen.flow_from_directory(\n",
        "    os.path.join(DATASET_PATH, 'train'),\n",
        "    target_size=IMG_SIZE,\n",
        "    batch_size=BATCH_SIZE,\n",
        "    class_mode='categorical',\n",
        "    subset='validation')\n",
        "\n",
        "test_generator = test_datagen.flow_from_directory(\n",
        "    os.path.join(DATASET_PATH, 'test'),\n",
        "    target_size=IMG_SIZE,\n",
        "    batch_size=BATCH_SIZE,\n",
        "    class_mode='categorical',\n",
        "    shuffle=False)"
      ],
      "metadata": {
        "colab": {
          "base_uri": "https://localhost:8080/"
        },
        "id": "jBUsN0YYpold",
        "outputId": "961d2ef6-1e34-4d50-87e2-59e5304f7d49"
      },
      "execution_count": 4,
      "outputs": [
        {
          "output_type": "stream",
          "name": "stdout",
          "text": [
            "Found 4173 images belonging to 2 classes.\n",
            "Found 1043 images belonging to 2 classes.\n",
            "Found 624 images belonging to 2 classes.\n"
          ]
        }
      ]
    },
    {
      "cell_type": "markdown",
      "source": [
        "RQ1 & RQ2: MODEL SETUP"
      ],
      "metadata": {
        "id": "aLC8rGjmnOj5"
      }
    },
    {
      "cell_type": "code",
      "source": [
        "def build_transfer_model():\n",
        "    base_model = ResNet50(include_top=False, weights='imagenet', input_shape=(*IMG_SIZE, 3))\n",
        "    base_model.trainable = False\n",
        "\n",
        "    inputs = Input(shape=(*IMG_SIZE, 3))\n",
        "    x = base_model(inputs, training=False)\n",
        "    x = GlobalAveragePooling2D()(x)\n",
        "    outputs = Dense(train_generator.num_classes, activation='softmax')(x)\n",
        "    model = Model(inputs, outputs)\n",
        "    return model, base_model\n",
        "\n",
        "def build_scratch_model():\n",
        "    inputs = Input(shape=(*IMG_SIZE, 3))\n",
        "    x = tf.keras.layers.Conv2D(32, (3, 3), activation='relu')(inputs)\n",
        "    x = tf.keras.layers.MaxPooling2D((2, 2))(x)\n",
        "    x = Flatten()(x)\n",
        "    outputs = Dense(train_generator.num_classes, activation='softmax')(x)\n",
        "    return Model(inputs, outputs)\n",
        "\n",
        "resnet_model, resnet_base = build_transfer_model()\n",
        "resnet_model.compile(optimizer='adam', loss='categorical_crossentropy', metrics=['accuracy'])\n",
        "\n",
        "scratch_model = build_scratch_model()\n",
        "scratch_model.compile(optimizer='adam', loss='categorical_crossentropy', metrics=['accuracy'])\n",
        "\n",
        "# Training\n",
        "resnet_model.fit(train_generator, validation_data=val_generator, epochs=5)\n",
        "scratch_model.fit(train_generator, validation_data=val_generator, epochs=5)\n",
        "\n",
        "# Evaluation\n",
        "resnet_preds = resnet_model.predict(test_generator)\n",
        "scratch_preds = scratch_model.predict(test_generator)\n",
        "true_labels = test_generator.labels\n",
        "\n",
        "print(\"ResNet50 Classification Report:\")\n",
        "print(classification_report(true_labels, np.argmax(resnet_preds, axis=1)))\n",
        "print(\"\\nScratch Model Classification Report:\")\n",
        "print(classification_report(true_labels, np.argmax(scratch_preds, axis=1)))"
      ],
      "metadata": {
        "colab": {
          "base_uri": "https://localhost:8080/"
        },
        "id": "b5SHP4WxpptE",
        "outputId": "1453fa97-a79e-4ab5-efae-dc8045752cb1"
      },
      "execution_count": 5,
      "outputs": [
        {
          "output_type": "stream",
          "name": "stdout",
          "text": [
            "Downloading data from https://storage.googleapis.com/tensorflow/keras-applications/resnet/resnet50_weights_tf_dim_ordering_tf_kernels_notop.h5\n",
            "\u001b[1m94765736/94765736\u001b[0m \u001b[32m━━━━━━━━━━━━━━━━━━━━\u001b[0m\u001b[37m\u001b[0m \u001b[1m1s\u001b[0m 0us/step\n"
          ]
        },
        {
          "output_type": "stream",
          "name": "stderr",
          "text": [
            "/usr/local/lib/python3.11/dist-packages/keras/src/trainers/data_adapters/py_dataset_adapter.py:121: UserWarning: Your `PyDataset` class should call `super().__init__(**kwargs)` in its constructor. `**kwargs` can include `workers`, `use_multiprocessing`, `max_queue_size`. Do not pass these arguments to `fit()`, as they will be ignored.\n",
            "  self._warn_if_super_not_called()\n"
          ]
        },
        {
          "output_type": "stream",
          "name": "stdout",
          "text": [
            "Epoch 1/5\n",
            "\u001b[1m131/131\u001b[0m \u001b[32m━━━━━━━━━━━━━━━━━━━━\u001b[0m\u001b[37m\u001b[0m \u001b[1m1271s\u001b[0m 10s/step - accuracy: 0.7291 - loss: 0.5925 - val_accuracy: 0.7421 - val_loss: 0.5420\n",
            "Epoch 2/5\n",
            "\u001b[1m131/131\u001b[0m \u001b[32m━━━━━━━━━━━━━━━━━━━━\u001b[0m\u001b[37m\u001b[0m \u001b[1m1100s\u001b[0m 8s/step - accuracy: 0.7485 - loss: 0.5211 - val_accuracy: 0.7478 - val_loss: 0.4959\n",
            "Epoch 3/5\n",
            "\u001b[1m131/131\u001b[0m \u001b[32m━━━━━━━━━━━━━━━━━━━━\u001b[0m\u001b[37m\u001b[0m \u001b[1m1084s\u001b[0m 8s/step - accuracy: 0.7425 - loss: 0.4921 - val_accuracy: 0.7555 - val_loss: 0.4727\n",
            "Epoch 4/5\n",
            "\u001b[1m131/131\u001b[0m \u001b[32m━━━━━━━━━━━━━━━━━━━━\u001b[0m\u001b[37m\u001b[0m \u001b[1m1082s\u001b[0m 8s/step - accuracy: 0.7745 - loss: 0.4443 - val_accuracy: 0.7737 - val_loss: 0.4556\n",
            "Epoch 5/5\n",
            "\u001b[1m131/131\u001b[0m \u001b[32m━━━━━━━━━━━━━━━━━━━━\u001b[0m\u001b[37m\u001b[0m \u001b[1m1083s\u001b[0m 8s/step - accuracy: 0.7710 - loss: 0.4535 - val_accuracy: 0.7824 - val_loss: 0.4383\n",
            "Epoch 1/5\n",
            "\u001b[1m131/131\u001b[0m \u001b[32m━━━━━━━━━━━━━━━━━━━━\u001b[0m\u001b[37m\u001b[0m \u001b[1m297s\u001b[0m 2s/step - accuracy: 0.7841 - loss: 1.3193 - val_accuracy: 0.8667 - val_loss: 0.3227\n",
            "Epoch 2/5\n",
            "\u001b[1m131/131\u001b[0m \u001b[32m━━━━━━━━━━━━━━━━━━━━\u001b[0m\u001b[37m\u001b[0m \u001b[1m283s\u001b[0m 2s/step - accuracy: 0.9164 - loss: 0.2210 - val_accuracy: 0.8811 - val_loss: 0.2443\n",
            "Epoch 3/5\n",
            "\u001b[1m131/131\u001b[0m \u001b[32m━━━━━━━━━━━━━━━━━━━━\u001b[0m\u001b[37m\u001b[0m \u001b[1m294s\u001b[0m 2s/step - accuracy: 0.9279 - loss: 0.1816 - val_accuracy: 0.9156 - val_loss: 0.1967\n",
            "Epoch 4/5\n",
            "\u001b[1m131/131\u001b[0m \u001b[32m━━━━━━━━━━━━━━━━━━━━\u001b[0m\u001b[37m\u001b[0m \u001b[1m286s\u001b[0m 2s/step - accuracy: 0.9475 - loss: 0.1440 - val_accuracy: 0.9243 - val_loss: 0.1800\n",
            "Epoch 5/5\n",
            "\u001b[1m131/131\u001b[0m \u001b[32m━━━━━━━━━━━━━━━━━━━━\u001b[0m\u001b[37m\u001b[0m \u001b[1m330s\u001b[0m 2s/step - accuracy: 0.9333 - loss: 0.1628 - val_accuracy: 0.9204 - val_loss: 0.2022\n",
            "\u001b[1m20/20\u001b[0m \u001b[32m━━━━━━━━━━━━━━━━━━━━\u001b[0m\u001b[37m\u001b[0m \u001b[1m213s\u001b[0m 11s/step\n",
            "\u001b[1m20/20\u001b[0m \u001b[32m━━━━━━━━━━━━━━━━━━━━\u001b[0m\u001b[37m\u001b[0m \u001b[1m15s\u001b[0m 721ms/step\n",
            "ResNet50 Classification Report:\n",
            "              precision    recall  f1-score   support\n",
            "\n",
            "           0       0.77      0.24      0.37       234\n",
            "           1       0.68      0.96      0.79       390\n",
            "\n",
            "    accuracy                           0.69       624\n",
            "   macro avg       0.72      0.60      0.58       624\n",
            "weighted avg       0.71      0.69      0.63       624\n",
            "\n",
            "\n",
            "Scratch Model Classification Report:\n",
            "              precision    recall  f1-score   support\n",
            "\n",
            "           0       0.90      0.57      0.70       234\n",
            "           1       0.79      0.96      0.87       390\n",
            "\n",
            "    accuracy                           0.82       624\n",
            "   macro avg       0.84      0.77      0.78       624\n",
            "weighted avg       0.83      0.82      0.80       624\n",
            "\n"
          ]
        }
      ]
    },
    {
      "cell_type": "markdown",
      "source": [
        "RQ3: GRAD-CAM"
      ],
      "metadata": {
        "id": "HBMNvQ3enR-j"
      }
    },
    {
      "cell_type": "code",
      "source": [
        "def make_gradcam_heatmap(img_array, model, base_model, last_conv_layer_name):\n",
        "    img_array = tf.convert_to_tensor(img_array, dtype=tf.float32)\n",
        "\n",
        "    # Get the output of the last conv layer\n",
        "    last_conv_layer = base_model.get_layer(last_conv_layer_name)\n",
        "    last_conv_layer_model = Model(base_model.input, last_conv_layer.output)\n",
        "\n",
        "    # Create model from last conv layer output to final predictions\n",
        "    classifier_input = tf.keras.Input(shape=last_conv_layer.output.shape[1:])\n",
        "    x = classifier_input\n",
        "    x = GlobalAveragePooling2D()(x)\n",
        "    x = Dense(train_generator.num_classes, activation='softmax')(x)\n",
        "    classifier_model = Model(classifier_input, x)\n",
        "\n",
        "    with tf.GradientTape() as tape:\n",
        "        conv_outputs = last_conv_layer_model(img_array)\n",
        "        tape.watch(conv_outputs)\n",
        "        predictions = classifier_model(conv_outputs)\n",
        "        class_idx = tf.argmax(predictions[0])\n",
        "        class_output = predictions[:, class_idx]\n",
        "\n",
        "    grads = tape.gradient(class_output, conv_outputs)[0]\n",
        "    pooled_grads = tf.reduce_mean(grads, axis=(0, 1))\n",
        "    conv_outputs = conv_outputs[0]\n",
        "    heatmap = conv_outputs @ pooled_grads[..., tf.newaxis]\n",
        "    heatmap = tf.squeeze(heatmap)\n",
        "    heatmap = tf.maximum(heatmap, 0) / tf.math.reduce_max(heatmap)\n",
        "    return heatmap.numpy()\n",
        "\n",
        "\n",
        "# Visualize heatmap\n",
        "img_path = test_generator.filepaths[0]\n",
        "img = tf.keras.preprocessing.image.load_img(img_path, target_size=IMG_SIZE)\n",
        "img_array = tf.keras.preprocessing.image.img_to_array(img)\n",
        "img_array = np.expand_dims(img_array / 255., axis=0)\n",
        "# Convert to tensor using model's input signature\n",
        "img_array = tf.convert_to_tensor(img_array, dtype=tf.float32)\n",
        "img_array = tf.ensure_shape(img_array, (1, 224, 224, 3))\n",
        "\n",
        "# Automatically find the last valid conv layer\n",
        "last_conv_layer_name = [layer.name for layer in resnet_base.layers if isinstance(layer, tf.keras.layers.Conv2D)][-1]\n",
        "heatmap = make_gradcam_heatmap(img_array, resnet_model, resnet_base, last_conv_layer_name)\n",
        "\n",
        "plt.matshow(heatmap)\n",
        "plt.title(\"Grad-CAM Heatmap\")\n",
        "plt.show()"
      ],
      "metadata": {
        "colab": {
          "base_uri": "https://localhost:8080/",
          "height": 459
        },
        "id": "Ta7BdCWIM6XD",
        "outputId": "a0485fb0-5ee2-42c0-946c-6b2a7e179e55"
      },
      "execution_count": 6,
      "outputs": [
        {
          "output_type": "display_data",
          "data": {
            "text/plain": [
              "<Figure size 480x480 with 1 Axes>"
            ],
            "image/png": "[encoded data removed]"
          },
          "metadata": {}
        }
      ]
    }
  ]
}